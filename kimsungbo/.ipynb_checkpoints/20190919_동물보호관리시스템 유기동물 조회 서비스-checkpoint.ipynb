{
 "cells": [
  {
   "cell_type": "code",
   "execution_count": 1,
   "metadata": {},
   "outputs": [
    {
     "name": "stdout",
     "output_type": "stream",
     "text": [
      "XTRdBWJdl4pV1%2FvSfZeu4FoGpl2eGP%2FzlR5eGh%2F9M8jbOv4HPFZI%2BM7ckZstS8OzkMKHNBkpAtdZX6T8VoRl4Q%3D%3D\n"
     ]
    }
   ],
   "source": [
    "# 환경 변수에서 API 키 가져오기\n",
    "\n",
    "import os\n",
    "\n",
    "key = os.environ['ANIMAL_API_KEY']\n",
    "\n",
    "print(key)"
   ]
  },
  {
   "cell_type": "code",
   "execution_count": 2,
   "metadata": {},
   "outputs": [
    {
     "name": "stdout",
     "output_type": "stream",
     "text": [
      "XTRdBWJdl4pV1/vSfZeu4FoGpl2eGP/zlR5eGh/9M8jbOv4HPFZI+M7ckZstS8OzkMKHNBkpAtdZX6T8VoRl4Q==\n"
     ]
    }
   ],
   "source": [
    "# API 키 값이 URL 인코딩(encoding)된 상태라 다시 디코딩(decoding).\n",
    "\n",
    "from urllib.parse import unquote\n",
    "\n",
    "API_KEY = unquote(key)\n",
    "\n",
    "print(API_KEY)"
   ]
  },
  {
   "cell_type": "code",
   "execution_count": 4,
   "metadata": {},
   "outputs": [
    {
     "data": {
      "text/plain": [
       "'2.22.0'"
      ]
     },
     "execution_count": 4,
     "metadata": {},
     "output_type": "execute_result"
    }
   ],
   "source": [
    "# requests 사용\n",
    "\n",
    "import requests\n",
    "\n",
    "requests.__version__"
   ]
  },
  {
   "cell_type": "code",
   "execution_count": 5,
   "metadata": {},
   "outputs": [
    {
     "name": "stdout",
     "output_type": "stream",
     "text": [
      "<?xml version=\"1.0\" encoding=\"UTF-8\" standalone=\"yes\"?><response><header><resultCode>00</resultCode><resultMsg>NORMAL SERVICE.</resultMsg></header><body><items><item><age>2019(년생)</age><careAddr>경상남도 거창군 거창읍 거창대로 13-2 (거창읍, 칠성슈퍼) </careAddr><careNm>나래동물병원</careNm><careTel>055-942-8875</careTel><chargeNm>거창군</chargeNm><colorCd>진갈색</colorCd><desertionNo>448547201900361</desertionNo><filename>http://www.animal.go.kr/files/shelter/2019/09/201909191309413_s.jpg</filename><happenDt>20190919</happenDt><happenPlace>거창읍 동변리 1074</happenPlace><kindCd>[개] 믹스견</kindCd><neuterYn>U</neuterYn><noticeEdt>20190930</noticeEdt><noticeNo>경남-거창-2019-00362</noticeNo><noticeSdt>20190919</noticeSdt><officetel>055-940-8140</officetel><orgNm>경상남도 거창군</orgNm><popfile>http://www.animal.go.kr/files/shelter/2019/09/201909191309413.jpeg</popfile><processState>보호중</processState><sexCd>M</sexCd><specialMark>3개월 가량 강아지, 온순함</specialMark><weight>1.5(Kg)</weight></item></items><numOfRows>1</numOfRows><pageNo>1</pageNo><totalCount>7189</totalCount></body></response>\n"
     ]
    }
   ],
   "source": [
    "# 동물보호관리시스템 유기동물 조회 서비스 API\n",
    "\n",
    "url = 'http://openapi.animal.go.kr/openapi/service/rest/abandonmentPublicSrvc/abandonmentPublic'\n",
    "\n",
    "payload = {\n",
    "    'serviceKey': API_KEY,\n",
    "    'bgnde': '20190901',\n",
    "    'endde': '20190930',\n",
    "    'numOfRows': 1,\n",
    "}\n",
    "\n",
    "response = requests.get(url, params=payload)\n",
    "\n",
    "print(response.text)"
   ]
  },
  {
   "cell_type": "code",
   "execution_count": null,
   "metadata": {},
   "outputs": [],
   "source": []
  }
 ],
 "metadata": {
  "kernelspec": {
   "display_name": "Python 3",
   "language": "python",
   "name": "python3"
  },
  "language_info": {
   "codemirror_mode": {
    "name": "ipython",
    "version": 3
   },
   "file_extension": ".py",
   "mimetype": "text/x-python",
   "name": "python",
   "nbconvert_exporter": "python",
   "pygments_lexer": "ipython3",
   "version": "3.7.4"
  }
 },
 "nbformat": 4,
 "nbformat_minor": 2
}
